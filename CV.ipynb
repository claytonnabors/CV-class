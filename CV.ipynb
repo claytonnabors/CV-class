{
 "cells": [
  {
   "cell_type": "markdown",
   "id": "2db0d4f4-8eef-45dc-8209-a0de06b237b5",
   "metadata": {
    "slideshow": {
     "slide_type": "slide"
    }
   },
   "source": [
    "# Clayton Nabors\n",
    "6060 Averill Way Apt. C · Dallas, TX 75225 · (214) 693-0146 · cnabors@mail.smu.edu\n",
    " ### EDUCATION"
   ]
  },
  {
   "cell_type": "markdown",
   "id": "35b4520b-543b-4f9e-a90b-1f3953963c41",
   "metadata": {},
   "source": [
    " "
   ]
  },
  {
   "cell_type": "markdown",
   "id": "c97c6d4d-babf-4a98-904e-2587cebc18ca",
   "metadata": {
    "slideshow": {
     "slide_type": "slide"
    }
   },
   "source": [
    "-----\n",
    " #### Collin College "
   ]
  },
  {
   "cell_type": "markdown",
   "id": "d1d07503-f87e-4ef0-a171-9ceb3ef54e2f",
   "metadata": {
    "slideshow": {
     "slide_type": "slide"
    }
   },
   "source": [
    " Plano, TX Aug 2018 – May 2020\n",
    "Core and General Business Studies\n",
    "• Collin College GPA: 3.36/4.0\n",
    "#### Southern Methodist University, Dedman College of Humanities & Sciences\n",
    "Dallas, TX Dec 2022\n",
    "Bachelor of Science, Economics with Finance Application Subfield in the Economics of Decision Making\n",
    "• Southern Methodist University GPA: 3.56/4.0\n",
    "### EXPERIENCE \n",
    "---- \n",
    "#### Hilltop Securities \n",
    "Compliance Intern\n",
    "Dallas, TX May 2022 - Present\n",
    "  • Drafted suspicious activity reports (SARs) with the Anti Money Laundering team\n",
    "• Assisted in branch examinations and audits\n",
    "• Researched existing and past customers info for SEC 12b-1 fee rebates on mutual funds\n",
    "• Ensuring commodity deals were in compliance with financial regulators\n",
    "#### Lloyd D. Nabors Demolition\n",
    "Administrative Office Assistant \n",
    "Dallas, TX May 2015 – May 2022\n",
    "• Answer incoming calls and direct them to the appropriate person\n",
    "• Process and organize all incoming invoices\n",
    "• Process all incoming mail\n",
    "• File, fax and make copies of documents\n",
    "• General office organization\n",
    "• Manage and sort all paperwork that is received by field employees\n",
    "• Greet and direct clients to the appropriate person\n",
    "• Assist other office employees when asked\n",
    "### ACTIVITIES & VOLUNTEERING\n",
    "\n",
    "• Volunteer at a variety of food banks to help organize, clean facility, and distribute food to those in need\n",
    "• Volunteered at a disaster relief facility by sorting through the donations in order to properly package and\n",
    "distribute the items\n",
    "• Volunteered at a retirement center and assisted the nurses and staff with the residents\n",
    "### ADDITIONAL INFORMATION\n",
    "Computer Skills: Microsoft Office (Word, PowerPoint, Excel)\n",
    "Skills: Detail oriented, very organized, work well with others, customer service, good communication, willingness to learn, work well under pressure\n",
    " "
   ]
  }
 ],
 "metadata": {
  "celltoolbar": "Slideshow",
  "kernelspec": {
   "display_name": "Python 3 (ipykernel)",
   "language": "python",
   "name": "python3"
  },
  "language_info": {
   "codemirror_mode": {
    "name": "ipython",
    "version": 3
   },
   "file_extension": ".py",
   "mimetype": "text/x-python",
   "name": "python",
   "nbconvert_exporter": "python",
   "pygments_lexer": "ipython3",
   "version": "3.9.13"
  }
 },
 "nbformat": 4,
 "nbformat_minor": 5
}
